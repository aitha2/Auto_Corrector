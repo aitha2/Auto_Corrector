{
 "cells": [
  {
   "cell_type": "code",
   "execution_count": 1,
   "id": "a6b9fb1f-d13c-40db-8bfd-62cac65bf977",
   "metadata": {},
   "outputs": [],
   "source": [
    "import nltk\n",
    "from nltk.corpus import words\n",
    "from nltk.metrics.distance import edit_distance"
   ]
  },
  {
   "cell_type": "code",
   "execution_count": null,
   "id": "e355a291-2453-45f0-adda-c18cebe84e95",
   "metadata": {},
   "outputs": [
    {
     "name": "stdin",
     "output_type": "stream",
     "text": [
      "Enter a word (type 'exit to stop):  hime\n"
     ]
    },
    {
     "name": "stdout",
     "output_type": "stream",
     "text": [
      "Entered word is : hime\n",
      "Correct word is : hike\n"
     ]
    },
    {
     "name": "stdin",
     "output_type": "stream",
     "text": [
      "Enter a word (type 'exit to stop):  hime\n"
     ]
    },
    {
     "name": "stdout",
     "output_type": "stream",
     "text": [
      "Entered word is : hime\n",
      "Correct word is : hike\n"
     ]
    },
    {
     "name": "stdin",
     "output_type": "stream",
     "text": [
      "Enter a word (type 'exit to stop):  pricyite\n"
     ]
    },
    {
     "name": "stdout",
     "output_type": "stream",
     "text": [
      "Entered word is : pricyite\n",
      "Correct word is : priceite\n"
     ]
    },
    {
     "name": "stdin",
     "output_type": "stream",
     "text": [
      "Enter a word (type 'exit to stop):  home\n"
     ]
    },
    {
     "name": "stdout",
     "output_type": "stream",
     "text": [
      "Entered word is : home\n",
      "Correct word is : home\n"
     ]
    },
    {
     "name": "stdin",
     "output_type": "stream",
     "text": [
      "Enter a word (type 'exit to stop):  ruse\n"
     ]
    },
    {
     "name": "stdout",
     "output_type": "stream",
     "text": [
      "Entered word is : ruse\n",
      "Correct word is : ruse\n"
     ]
    }
   ],
   "source": [
    "english_words=set(words.words())\n",
    "def auto_correct(word):\n",
    "    word=word.lower()\n",
    "    if word in english_words:\n",
    "        return word\n",
    "    #else we need to find the closest word for the entered word using edit distance\n",
    "    min_distance=float('inf')\n",
    "    closest_word=None\n",
    "    for w in english_words:\n",
    "        distance=edit_distance(word,w)\n",
    "        if distance < min_distance:\n",
    "            min_distance=distance\n",
    "            closest_word=w\n",
    "    return closest_word\n",
    "while True:\n",
    "    input_word = input(\"Enter a word (type 'exit to stop): \")\n",
    "    if(input_word.lower() == 'exit' ):\n",
    "        break\n",
    "    corrected_word=auto_correct(input_word)\n",
    "    print(\"Entered word is :\", input_word)\n",
    "    print(\"Correct word is :\", corrected_word)"
   ]
  },
  {
   "cell_type": "code",
   "execution_count": null,
   "id": "652d5550-c8c7-4645-9d49-232603d22505",
   "metadata": {},
   "outputs": [],
   "source": []
  }
 ],
 "metadata": {
  "kernelspec": {
   "display_name": "Python 3 (ipykernel)",
   "language": "python",
   "name": "python3"
  },
  "language_info": {
   "codemirror_mode": {
    "name": "ipython",
    "version": 3
   },
   "file_extension": ".py",
   "mimetype": "text/x-python",
   "name": "python",
   "nbconvert_exporter": "python",
   "pygments_lexer": "ipython3",
   "version": "3.11.4"
  }
 },
 "nbformat": 4,
 "nbformat_minor": 5
}
